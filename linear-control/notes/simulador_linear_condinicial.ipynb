{
 "cells": [
  {
   "cell_type": "markdown",
   "metadata": {},
   "source": [
    "# Exemplo Simulador Linear - Condição inicial\n",
    "\n",
    "SEL0326 - Controle de Sistemas Lineares (2023)\n",
    "\n",
    "> Aluno: Felipe Andrade Garcia Tommaselli- 11800910 "
   ]
  },
  {
   "cell_type": "code",
   "execution_count": 10,
   "metadata": {},
   "outputs": [],
   "source": [
    "import numpy as np\n",
    "import matplotlib.pyplot as plt\n",
    "# from scipy.signal import lti, step\n",
    "import control.matlab as matlab"
   ]
  },
  {
   "cell_type": "code",
   "execution_count": 11,
   "metadata": {},
   "outputs": [
    {
     "data": {
      "text/plain": [
       "(array([[ 0,  1],\n",
       "        [-1, -1]]),\n",
       " array([[0],\n",
       "        [1]]),\n",
       " array([1, 0]),\n",
       " 0)"
      ]
     },
     "execution_count": 11,
     "metadata": {},
     "output_type": "execute_result"
    }
   ],
   "source": [
    "A = np.array([[0, 1], [-1, -1]])\n",
    "B = np.array([[0], [1]])\n",
    "C = np.array([1, 0])\n",
    "D = 0\n",
    "\n",
    "deltax0 = [1, 0]\n",
    "tfinal = 12\n",
    "\n",
    "A, B, C, D"
   ]
  },
  {
   "cell_type": "code",
   "execution_count": 12,
   "metadata": {},
   "outputs": [
    {
     "ename": "TypeError",
     "evalue": "Can't convert given type to StateSpace system.",
     "output_type": "error",
     "traceback": [
      "\u001b[0;31m---------------------------------------------------------------------------\u001b[0m",
      "\u001b[0;31mValueError\u001b[0m                                Traceback (most recent call last)",
      "File \u001b[0;32m~/.local/lib/python3.8/site-packages/control/statesp.py:1598\u001b[0m, in \u001b[0;36m_convert_to_statespace\u001b[0;34m(sys, use_prefix_suffix)\u001b[0m\n\u001b[1;32m   1597\u001b[0m \u001b[39mtry\u001b[39;00m:\n\u001b[0;32m-> 1598\u001b[0m     D \u001b[39m=\u001b[39m _ssmatrix(np\u001b[39m.\u001b[39;49matleast_2d(sys))\n\u001b[1;32m   1599\u001b[0m     \u001b[39mreturn\u001b[39;00m StateSpace([], [], [], D, dt\u001b[39m=\u001b[39m\u001b[39mNone\u001b[39;00m)\n",
      "File \u001b[0;32m<__array_function__ internals>:200\u001b[0m, in \u001b[0;36matleast_2d\u001b[0;34m(*args, **kwargs)\u001b[0m\n",
      "File \u001b[0;32m~/.local/lib/python3.8/site-packages/numpy/core/shape_base.py:121\u001b[0m, in \u001b[0;36matleast_2d\u001b[0;34m(*arys)\u001b[0m\n\u001b[1;32m    120\u001b[0m \u001b[39mfor\u001b[39;00m ary \u001b[39min\u001b[39;00m arys:\n\u001b[0;32m--> 121\u001b[0m     ary \u001b[39m=\u001b[39m asanyarray(ary)\n\u001b[1;32m    122\u001b[0m     \u001b[39mif\u001b[39;00m ary\u001b[39m.\u001b[39mndim \u001b[39m==\u001b[39m \u001b[39m0\u001b[39m:\n",
      "\u001b[0;31mValueError\u001b[0m: setting an array element with a sequence. The requested array has an inhomogeneous shape after 1 dimensions. The detected shape was (4,) + inhomogeneous part.",
      "\nDuring handling of the above exception, another exception occurred:\n",
      "\u001b[0;31mTypeError\u001b[0m                                 Traceback (most recent call last)",
      "\u001b[1;32m/home/tommaselli/Documents/AdvancedControl/Examples/simulador_linear_condinicial.ipynb Cell 4\u001b[0m line \u001b[0;36m2\n\u001b[1;32m      <a href='vscode-notebook-cell:/home/tommaselli/Documents/AdvancedControl/Examples/simulador_linear_condinicial.ipynb#W0sZmlsZQ%3D%3D?line=0'>1</a>\u001b[0m t \u001b[39m=\u001b[39m np\u001b[39m.\u001b[39mlinspace(\u001b[39m0\u001b[39m, tfinal, \u001b[39m1000\u001b[39m)\n\u001b[0;32m----> <a href='vscode-notebook-cell:/home/tommaselli/Documents/AdvancedControl/Examples/simulador_linear_condinicial.ipynb#W0sZmlsZQ%3D%3D?line=1'>2</a>\u001b[0m t, y \u001b[39m=\u001b[39m matlab\u001b[39m.\u001b[39;49minitial(sys\u001b[39m=\u001b[39;49m(A, B, C, D), X0\u001b[39m=\u001b[39;49mdeltax0, T\u001b[39m=\u001b[39;49mt)\n\u001b[1;32m      <a href='vscode-notebook-cell:/home/tommaselli/Documents/AdvancedControl/Examples/simulador_linear_condinicial.ipynb#W0sZmlsZQ%3D%3D?line=3'>4</a>\u001b[0m plt\u001b[39m.\u001b[39mfigure(\u001b[39m1\u001b[39m)\n\u001b[1;32m      <a href='vscode-notebook-cell:/home/tommaselli/Documents/AdvancedControl/Examples/simulador_linear_condinicial.ipynb#W0sZmlsZQ%3D%3D?line=4'>5</a>\u001b[0m plt\u001b[39m.\u001b[39mplot(t, y)\n",
      "File \u001b[0;32m~/.local/lib/python3.8/site-packages/control/matlab/timeresp.py:238\u001b[0m, in \u001b[0;36minitial\u001b[0;34m(sys, T, X0, input, output, return_x)\u001b[0m\n\u001b[1;32m    235\u001b[0m \u001b[39mfrom\u001b[39;00m \u001b[39m.\u001b[39;00m\u001b[39m.\u001b[39;00m\u001b[39mtimeresp\u001b[39;00m \u001b[39mimport\u001b[39;00m initial_response\n\u001b[1;32m    237\u001b[0m \u001b[39m# Switch output argument order and transpose outputs\u001b[39;00m\n\u001b[0;32m--> 238\u001b[0m T, yout, xout \u001b[39m=\u001b[39m initial_response(sys, T, X0, output\u001b[39m=\u001b[39;49moutput,\n\u001b[1;32m    239\u001b[0m                                  transpose\u001b[39m=\u001b[39;49m\u001b[39mTrue\u001b[39;49;00m, return_x\u001b[39m=\u001b[39;49m\u001b[39mTrue\u001b[39;49;00m)\n\u001b[1;32m    240\u001b[0m \u001b[39mreturn\u001b[39;00m (yout, T, xout) \u001b[39mif\u001b[39;00m return_x \u001b[39melse\u001b[39;00m (yout, T)\n",
      "File \u001b[0;32m~/.local/lib/python3.8/site-packages/control/timeresp.py:1707\u001b[0m, in \u001b[0;36minitial_response\u001b[0;34m(sys, T, X0, input, output, T_num, transpose, return_x, squeeze)\u001b[0m\n\u001b[1;32m   1616\u001b[0m \u001b[39mdef\u001b[39;00m \u001b[39minitial_response\u001b[39m(sys, T\u001b[39m=\u001b[39m\u001b[39mNone\u001b[39;00m, X0\u001b[39m=\u001b[39m\u001b[39m0.\u001b[39m, \u001b[39minput\u001b[39m\u001b[39m=\u001b[39m\u001b[39m0\u001b[39m, output\u001b[39m=\u001b[39m\u001b[39mNone\u001b[39;00m, T_num\u001b[39m=\u001b[39m\u001b[39mNone\u001b[39;00m,\n\u001b[1;32m   1617\u001b[0m                      transpose\u001b[39m=\u001b[39m\u001b[39mFalse\u001b[39;00m, return_x\u001b[39m=\u001b[39m\u001b[39mFalse\u001b[39;00m, squeeze\u001b[39m=\u001b[39m\u001b[39mNone\u001b[39;00m):\n\u001b[1;32m   1618\u001b[0m     \u001b[39m# pylint: disable=W0622\u001b[39;00m\n\u001b[1;32m   1619\u001b[0m \u001b[39m    \u001b[39m\u001b[39m\"\"\"Compute the initial condition response for a linear system.\u001b[39;00m\n\u001b[1;32m   1620\u001b[0m \n\u001b[1;32m   1621\u001b[0m \u001b[39m    If the system has multiple outputs (MIMO), optionally, one output\u001b[39;00m\n\u001b[0;32m   (...)\u001b[0m\n\u001b[1;32m   1705\u001b[0m \n\u001b[1;32m   1706\u001b[0m \u001b[39m    \"\"\"\u001b[39;00m\n\u001b[0;32m-> 1707\u001b[0m     squeeze, sys \u001b[39m=\u001b[39m _get_ss_simo(sys, \u001b[39minput\u001b[39;49m, output, squeeze\u001b[39m=\u001b[39;49msqueeze)\n\u001b[1;32m   1709\u001b[0m     \u001b[39m# Create time and input vectors; checking is done in forced_response(...)\u001b[39;00m\n\u001b[1;32m   1710\u001b[0m     \u001b[39m# The initial vector X0 is created in forced_response(...) if necessary\u001b[39;00m\n\u001b[1;32m   1711\u001b[0m     \u001b[39mif\u001b[39;00m T \u001b[39mis\u001b[39;00m \u001b[39mNone\u001b[39;00m \u001b[39mor\u001b[39;00m np\u001b[39m.\u001b[39masarray(T)\u001b[39m.\u001b[39msize \u001b[39m==\u001b[39m \u001b[39m1\u001b[39m:\n",
      "File \u001b[0;32m~/.local/lib/python3.8/site-packages/control/timeresp.py:1218\u001b[0m, in \u001b[0;36m_get_ss_simo\u001b[0;34m(sys, input, output, squeeze)\u001b[0m\n\u001b[1;32m   1215\u001b[0m \u001b[39mif\u001b[39;00m squeeze \u001b[39mis\u001b[39;00m \u001b[39mNone\u001b[39;00m:\n\u001b[1;32m   1216\u001b[0m     squeeze \u001b[39m=\u001b[39m config\u001b[39m.\u001b[39mdefaults[\u001b[39m'\u001b[39m\u001b[39mcontrol.squeeze_time_response\u001b[39m\u001b[39m'\u001b[39m]\n\u001b[0;32m-> 1218\u001b[0m sys_ss \u001b[39m=\u001b[39m _convert_to_statespace(sys)\n\u001b[1;32m   1219\u001b[0m \u001b[39mif\u001b[39;00m sys_ss\u001b[39m.\u001b[39missiso():\n\u001b[1;32m   1220\u001b[0m     \u001b[39mreturn\u001b[39;00m squeeze, sys_ss\n",
      "File \u001b[0;32m~/.local/lib/python3.8/site-packages/control/statesp.py:1602\u001b[0m, in \u001b[0;36m_convert_to_statespace\u001b[0;34m(sys, use_prefix_suffix)\u001b[0m\n\u001b[1;32m   1599\u001b[0m     \u001b[39mreturn\u001b[39;00m StateSpace([], [], [], D, dt\u001b[39m=\u001b[39m\u001b[39mNone\u001b[39;00m)\n\u001b[1;32m   1601\u001b[0m \u001b[39mexcept\u001b[39;00m \u001b[39mException\u001b[39;00m:\n\u001b[0;32m-> 1602\u001b[0m     \u001b[39mraise\u001b[39;00m \u001b[39mTypeError\u001b[39;00m(\u001b[39m\"\u001b[39m\u001b[39mCan\u001b[39m\u001b[39m'\u001b[39m\u001b[39mt convert given type to StateSpace system.\u001b[39m\u001b[39m\"\u001b[39m)\n",
      "\u001b[0;31mTypeError\u001b[0m: Can't convert given type to StateSpace system."
     ]
    }
   ],
   "source": [
    "t = np.linspace(0, tfinal, 1000)\n",
    "t, y = matlab.initial(sys=(A, B, C, D), X0=deltax0, T=t)\n",
    "\n",
    "plt.figure(1)\n",
    "plt.plot(t, y)\n",
    "plt.show()"
   ]
  },
  {
   "cell_type": "code",
   "execution_count": null,
   "metadata": {},
   "outputs": [],
   "source": [
    "x, _ = matlab.initial(sys=(A, B, C, D), X0=deltax0, T=t)"
   ]
  },
  {
   "cell_type": "code",
   "execution_count": null,
   "metadata": {},
   "outputs": [
    {
     "ename": "IndexError",
     "evalue": "too many indices for array: array is 1-dimensional, but 2 were indexed",
     "output_type": "error",
     "traceback": [
      "\u001b[0;31m---------------------------------------------------------------------------\u001b[0m",
      "\u001b[0;31mIndexError\u001b[0m                                Traceback (most recent call last)",
      "\u001b[1;32m/home/tommaselli/Documents/AdvancedControl/Examples/simulador_linear_condinicial.ipynb Cell 5\u001b[0m line \u001b[0;36m5\n\u001b[1;32m      <a href='vscode-notebook-cell:/home/tommaselli/Documents/AdvancedControl/Examples/simulador_linear_condinicial.ipynb#W4sZmlsZQ%3D%3D?line=1'>2</a>\u001b[0m plt\u001b[39m.\u001b[39mplot(t, y)\n\u001b[1;32m      <a href='vscode-notebook-cell:/home/tommaselli/Documents/AdvancedControl/Examples/simulador_linear_condinicial.ipynb#W4sZmlsZQ%3D%3D?line=3'>4</a>\u001b[0m plt\u001b[39m.\u001b[39mfigure(\u001b[39m2\u001b[39m)\n\u001b[0;32m----> <a href='vscode-notebook-cell:/home/tommaselli/Documents/AdvancedControl/Examples/simulador_linear_condinicial.ipynb#W4sZmlsZQ%3D%3D?line=4'>5</a>\u001b[0m plt\u001b[39m.\u001b[39mplot(t, y[:, \u001b[39m1\u001b[39;49m])\n\u001b[1;32m      <a href='vscode-notebook-cell:/home/tommaselli/Documents/AdvancedControl/Examples/simulador_linear_condinicial.ipynb#W4sZmlsZQ%3D%3D?line=6'>7</a>\u001b[0m plt\u001b[39m.\u001b[39mfigure(\u001b[39m3\u001b[39m)\n\u001b[1;32m      <a href='vscode-notebook-cell:/home/tommaselli/Documents/AdvancedControl/Examples/simulador_linear_condinicial.ipynb#W4sZmlsZQ%3D%3D?line=7'>8</a>\u001b[0m plt\u001b[39m.\u001b[39mplot(y[:, \u001b[39m0\u001b[39m], y[:, \u001b[39m1\u001b[39m])\n",
      "\u001b[0;31mIndexError\u001b[0m: too many indices for array: array is 1-dimensional, but 2 were indexed"
     ]
    },
    {
     "data": {
      "image/png": "[encoded data removed]",
      "text/plain": [
       "<Figure size 640x480 with 1 Axes>"
      ]
     },
     "metadata": {},
     "output_type": "display_data"
    },
    {
     "data": {
      "text/plain": [
       "<Figure size 640x480 with 0 Axes>"
      ]
     },
     "metadata": {},
     "output_type": "display_data"
    }
   ],
   "source": [
    "plt.figure(2)\n",
    "plt.plot(t, x[:, 1])\n",
    "\n",
    "plt.figure(3)\n",
    "plt.plot(x[:, 0], x[:, 1])\n",
    "\n",
    "plt.show()"
   ]
  }
 ],
 "metadata": {
  "kernelspec": {
   "display_name": "Python 3",
   "language": "python",
   "name": "python3"
  },
  "language_info": {
   "codemirror_mode": {
    "name": "ipython",
    "version": 3
   },
   "file_extension": ".py",
   "mimetype": "text/x-python",
   "name": "python",
   "nbconvert_exporter": "python",
   "pygments_lexer": "ipython3",
   "version": "3.8.10"
  },
  "orig_nbformat": 4
 },
 "nbformat": 4,
 "nbformat_minor": 2
}
