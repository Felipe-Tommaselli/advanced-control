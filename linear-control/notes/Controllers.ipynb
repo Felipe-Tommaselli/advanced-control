{
 "cells": [
  {
   "cell_type": "markdown",
   "metadata": {},
   "source": [
    "# Notes\n",
    "\n",
    "* Pole placement! \n",
    "\n",
    "* Reference: https://www.youtube.com/watch?v=FXSpHy8LvmY&list=PLn8PRpmsu08podBgFw66-IavqU2SqPg_w&index=2\n",
    "\n",
    "* Other reference: https://colab.research.google.com/github/jckantor/CBE30338/blob/master/docs/04.12-Interactive-PID-Control-Tuning-with-Ziegler--Nichols.ipynb"
   ]
  },
  {
   "cell_type": "code",
   "execution_count": 113,
   "metadata": {},
   "outputs": [],
   "source": [
    "import numpy as np\n",
    "import control.matlab as matlab\n",
    "import matplotlib.pyplot as plt\n",
    "import seaborn as sns\n",
    "sns.set_style('darkgrid')"
   ]
  },
  {
   "cell_type": "markdown",
   "metadata": {},
   "source": [
    "State space form:\n",
    "* $\\dot x = A \\cdot x + B \\cdot u$\n",
    "* $y = C \\cdot x + D \\cdot u$"
   ]
  },
  {
   "cell_type": "code",
   "execution_count": 114,
   "metadata": {},
   "outputs": [
    {
     "data": {
      "text/latex": [
       "$$\n",
       "\\left(\\begin{array}{rllrll|rll}\n",
       "0\\phantom{.}&\\hspace{-1em}&\\hspace{-1em}\\phantom{\\cdot}&1\\phantom{.}&\\hspace{-1em}&\\hspace{-1em}\\phantom{\\cdot}&1\\phantom{.}&\\hspace{-1em}&\\hspace{-1em}\\phantom{\\cdot}\\\\\n",
       "2\\phantom{.}&\\hspace{-1em}&\\hspace{-1em}\\phantom{\\cdot}&-1\\phantom{.}&\\hspace{-1em}&\\hspace{-1em}\\phantom{\\cdot}&0\\phantom{.}&\\hspace{-1em}&\\hspace{-1em}\\phantom{\\cdot}\\\\\n",
       "\\hline\n",
       "1\\phantom{.}&\\hspace{-1em}&\\hspace{-1em}\\phantom{\\cdot}&0\\phantom{.}&\\hspace{-1em}&\\hspace{-1em}\\phantom{\\cdot}&0\\phantom{.}&\\hspace{-1em}&\\hspace{-1em}\\phantom{\\cdot}\\\\\n",
       "\\end{array}\\right)\n",
       "$$"
      ],
      "text/plain": [
       "<LinearIOSystem:sys[2054]:['u[0]']->['y[0]']>"
      ]
     },
     "execution_count": 114,
     "metadata": {},
     "output_type": "execute_result"
    }
   ],
   "source": [
    "A = np.array([[0, 1], [2, -1]])\n",
    "B = np.array([[1], [0]])\n",
    "C = np.array([[1, 0]])\n",
    "D = np.array([[0]])\n",
    "\n",
    "sys = matlab.ss(A, B, C, D)\n",
    "\n",
    "sys"
   ]
  },
  {
   "cell_type": "markdown",
   "metadata": {},
   "source": [
    "Eigenvalues of $A$ are the poles of the system."
   ]
  },
  {
   "cell_type": "code",
   "execution_count": 115,
   "metadata": {},
   "outputs": [
    {
     "data": {
      "text/plain": [
       "array([ 1., -2.])"
      ]
     },
     "execution_count": 115,
     "metadata": {},
     "output_type": "execute_result"
    }
   ],
   "source": [
    "# find eigenvalues of A\n",
    "eigvals, eigvecs = np.linalg.eig(A)\n",
    "\n",
    "eigvals"
   ]
  },
  {
   "cell_type": "markdown",
   "metadata": {},
   "source": [
    "If we have at least one eigenvalue with positive real part, the system is unstable.\n",
    "\n",
    "<img src=\"eigenvalues.png\" width=500>\n",
    "\n",
    "To solve that, we need a pole placement controller."
   ]
  },
  {
   "cell_type": "code",
   "execution_count": 116,
   "metadata": {},
   "outputs": [
    {
     "data": {
      "text/plain": [
       "matrix([[2., 1.]])"
      ]
     },
     "execution_count": 116,
     "metadata": {},
     "output_type": "execute_result"
    }
   ],
   "source": [
    "# desired eigenvalues (we corrected the 1 to -1 for establishing stability)\n",
    "P = np.array([-2, -1])\n",
    "\n",
    "# hard math to find eigenvalues of A - BK\n",
    "K = matlab.place(A, B, P)\n",
    "K"
   ]
  },
  {
   "cell_type": "markdown",
   "metadata": {},
   "source": [
    "now that we have K feedback, we can create the closed loop system:\n",
    "\n",
    "$\\dot x = (A - B \\cdot K) \\cdot x$"
   ]
  },
  {
   "cell_type": "code",
   "execution_count": 117,
   "metadata": {},
   "outputs": [
    {
     "data": {
      "text/plain": [
       "array([-1., -2.])"
      ]
     },
     "execution_count": 117,
     "metadata": {},
     "output_type": "execute_result"
    }
   ],
   "source": [
    "Acl = A - B @ K\n",
    "\n",
    "eigvals, eigvecs = np.linalg.eig(Acl)\n",
    "\n",
    "eigvals"
   ]
  },
  {
   "cell_type": "code",
   "execution_count": 118,
   "metadata": {},
   "outputs": [
    {
     "data": {
      "text/latex": [
       "$$\n",
       "\\left(\\begin{array}{rllrll|rll}\n",
       "-2\\phantom{.}&\\hspace{-1em}&\\hspace{-1em}\\phantom{\\cdot}&0\\phantom{.}&\\hspace{-1em}&\\hspace{-1em}\\phantom{\\cdot}&1\\phantom{.}&\\hspace{-1em}&\\hspace{-1em}\\phantom{\\cdot}\\\\\n",
       "2\\phantom{.}&\\hspace{-1em}&\\hspace{-1em}\\phantom{\\cdot}&-1\\phantom{.}&\\hspace{-1em}&\\hspace{-1em}\\phantom{\\cdot}&0\\phantom{.}&\\hspace{-1em}&\\hspace{-1em}\\phantom{\\cdot}\\\\\n",
       "\\hline\n",
       "1\\phantom{.}&\\hspace{-1em}&\\hspace{-1em}\\phantom{\\cdot}&0\\phantom{.}&\\hspace{-1em}&\\hspace{-1em}\\phantom{\\cdot}&0\\phantom{.}&\\hspace{-1em}&\\hspace{-1em}\\phantom{\\cdot}\\\\\n",
       "\\end{array}\\right)\n",
       "$$"
      ],
      "text/plain": [
       "<LinearIOSystem:sys[2055]:['u[0]']->['y[0]']>"
      ]
     },
     "execution_count": 118,
     "metadata": {},
     "output_type": "execute_result"
    }
   ],
   "source": [
    "syscl = matlab.ss(Acl, B, C, D)\n",
    "\n",
    "syscl"
   ]
  },
  {
   "cell_type": "markdown",
   "metadata": {},
   "source": [
    "Now we can compare both step responses\n",
    "\n",
    "Note that, A open loop is unstable and Acl closed loop is stable."
   ]
  },
  {
   "cell_type": "code",
   "execution_count": 119,
   "metadata": {},
   "outputs": [
    {
     "data": {
      "image/png": "[encoded data removed]",
      "text/plain": [
       "<Figure size 500x300 with 1 Axes>"
      ]
     },
     "metadata": {},
     "output_type": "display_data"
    },
    {
     "name": "stdout",
     "output_type": "stream",
     "text": [
      "y(∞) = 98.44\n",
      "ycl(∞) = 0.50\n"
     ]
    }
   ],
   "source": [
    "# step response of A and Acl\n",
    "t = np.linspace(0, 5, 1000)\n",
    "y, t = matlab.step(sys, t)\n",
    "ycl, t = matlab.step(syscl, t)\n",
    "\n",
    "fig, ax = plt.subplots(figsize=(5, 3))\n",
    "\n",
    "ax.plot(t, y, label='A')\n",
    "ax.plot(t, ycl, label='Acl')\n",
    "ax.legend()\n",
    "\n",
    "# limit y axis\n",
    "plt.ylim(0, 2)\n",
    "plt.show()\n",
    "\n",
    "# print \"infinity\" values of y and ycl\n",
    "print(f'y(∞) = {y[-1]:.2f}')\n",
    "print(f'ycl(∞) = {ycl[-1]:.2f}')"
   ]
  },
  {
   "cell_type": "markdown",
   "metadata": {},
   "source": [
    "we also need to solve for the DC gain "
   ]
  },
  {
   "cell_type": "code",
   "execution_count": 120,
   "metadata": {},
   "outputs": [
    {
     "data": {
      "text/plain": [
       "(0.5, 2.0)"
      ]
     },
     "execution_count": 120,
     "metadata": {},
     "output_type": "execute_result"
    }
   ],
   "source": [
    "kdc = matlab.dcgain(syscl)\n",
    "kr = 1/kdc \n",
    "\n",
    "kdc, kr"
   ]
  },
  {
   "cell_type": "code",
   "execution_count": 121,
   "metadata": {},
   "outputs": [
    {
     "data": {
      "text/latex": [
       "$$\n",
       "\\left(\\begin{array}{rllrll|rll}\n",
       "-2\\phantom{.}&\\hspace{-1em}&\\hspace{-1em}\\phantom{\\cdot}&0\\phantom{.}&\\hspace{-1em}&\\hspace{-1em}\\phantom{\\cdot}&2\\phantom{.}&\\hspace{-1em}&\\hspace{-1em}\\phantom{\\cdot}\\\\\n",
       "2\\phantom{.}&\\hspace{-1em}&\\hspace{-1em}\\phantom{\\cdot}&-1\\phantom{.}&\\hspace{-1em}&\\hspace{-1em}\\phantom{\\cdot}&0\\phantom{.}&\\hspace{-1em}&\\hspace{-1em}\\phantom{\\cdot}\\\\\n",
       "\\hline\n",
       "1\\phantom{.}&\\hspace{-1em}&\\hspace{-1em}\\phantom{\\cdot}&0\\phantom{.}&\\hspace{-1em}&\\hspace{-1em}\\phantom{\\cdot}&0\\phantom{.}&\\hspace{-1em}&\\hspace{-1em}\\phantom{\\cdot}\\\\\n",
       "\\end{array}\\right)\n",
       "$$"
      ],
      "text/plain": [
       "<LinearIOSystem:sys[2056]:['u[0]']->['y[0]']>"
      ]
     },
     "execution_count": 121,
     "metadata": {},
     "output_type": "execute_result"
    }
   ],
   "source": [
    "syscl_scaled = matlab.ss(Acl, B*kr, C, D) # B*kr is the new B matrix\n",
    "\n",
    "syscl_scaled"
   ]
  },
  {
   "cell_type": "markdown",
   "metadata": {},
   "source": [
    "Agora podemos forçar a convergência do sistema para 1, por exemplo."
   ]
  },
  {
   "cell_type": "code",
   "execution_count": 122,
   "metadata": {},
   "outputs": [
    {
     "data": {
      "image/png": "[encoded data removed]",
      "text/plain": [
       "<Figure size 500x300 with 1 Axes>"
      ]
     },
     "metadata": {},
     "output_type": "display_data"
    }
   ],
   "source": [
    "# step response of all systems\n",
    "\n",
    "y_scaled, t = matlab.step(syscl_scaled, t)\n",
    "\n",
    "fig, ax = plt.subplots(figsize=(5, 3))\n",
    "\n",
    "ax.plot(t, y, label='A')\n",
    "ax.plot(t, ycl, label='Acl')\n",
    "ax.plot(t, y_scaled, label='Acl_scaled')\n",
    "\n",
    "ax.legend()\n",
    "plt.ylim(0, 2)\n",
    "plt.show()"
   ]
  },
  {
   "cell_type": "markdown",
   "metadata": {},
   "source": [
    "# PD Controller compared to Pole Placement\n",
    "\n",
    "Teorically we can use a PD controller to force the system to converge to 1, the same way a pole placement system would do. \n",
    "\n",
    "<img src=\"PD_controller.png\" width=500>"
   ]
  },
  {
   "cell_type": "code",
   "execution_count": 123,
   "metadata": {},
   "outputs": [],
   "source": [
    "# from tqdm import tqdm\n",
    "\n",
    "# s = matlab.tf('s')\n",
    "# t = np.linspace(0, 20, 1000)\n",
    "# sys_tf = matlab.tf(sys)\n",
    "# for p in tqdm(np.arange(9, 15, 0.1), desc='p loop', leave=False): \n",
    "#     for d in np.arange(9, 15, 0.1):\n",
    "#         controller_tf = (p + d*s)\n",
    "#         sys = matlab.ss(A, B, C, D)\n",
    "#         closed_loop_sys = matlab.feedback(sys_tf*controller_tf, 1)\n",
    "#         response, time = matlab.step(closed_loop_sys, t)\n",
    "#         if response[-1] < 1.1 and response[-1] > 0.1:\n",
    "#             print(f'kp = {kp}, kd = {kd}')\n",
    "#             break"
   ]
  },
  {
   "cell_type": "code",
   "execution_count": 124,
   "metadata": {},
   "outputs": [
    {
     "name": "stdout",
     "output_type": "stream",
     "text": [
      "Poles: [-4.1038034+0.j         -0.9480983+0.56523585j -0.9480983-0.56523585j]\n",
      "Controller: \n",
      "s^2 + 10 s + 10\n",
      "---------------\n",
      "       s\n",
      "\n",
      "System: \n",
      "   s + 1\n",
      "-----------\n",
      "s^2 + s - 2\n",
      "\n",
      "Closed-Loop System: \n",
      " s^3 + 11 s^2 + 20 s + 10\n",
      "--------------------------\n",
      "2 s^3 + 12 s^2 + 18 s + 10\n",
      "\n",
      "y(∞) = 1.00\n"
     ]
    },
    {
     "data": {
      "image/png": "[encoded data removed]",
      "text/plain": [
       "<Figure size 640x480 with 1 Axes>"
      ]
     },
     "metadata": {},
     "output_type": "display_data"
    }
   ],
   "source": [
    "# Define PD controller gains (tune these values)\n",
    "Kp = 10\n",
    "Kd = 1\n",
    "ki = 10\n",
    "\n",
    "# Create the closed-loop transfer function by connecting the system and controller in feedback\n",
    "s = matlab.tf('s')\n",
    "controller_tf = (Kp + Kd*s + ki/s)\n",
    "sys = matlab.ss(A, B, C, D)\n",
    "sys_tf = matlab.tf(sys)\n",
    "closed_loop_sys = matlab.feedback(sys_tf*controller_tf, 1)\n",
    "\n",
    "print(f'Poles: {matlab.pole(closed_loop_sys)}')\n",
    "\n",
    "# print tfs\n",
    "print(f'Controller: {controller_tf}')\n",
    "print(f'System: {sys_tf}')\n",
    "print(f'Closed-Loop System: {closed_loop_sys}')\n",
    "\n",
    "# Define time vector for simulation\n",
    "t = np.linspace(0, 20, 1000)\n",
    "\n",
    "# Step response of the closed-loop system\n",
    "response, time = matlab.step(closed_loop_sys, t)\n",
    "\n",
    "# steady-state value\n",
    "print(f'y(∞) = {response[-1]:.2f}')\n",
    "\n",
    "# Plot the step response\n",
    "plt.plot(t, response)\n",
    "plt.xlabel('Time')\n",
    "plt.ylabel('Output')\n",
    "plt.title('Closed-Loop Step Response')\n",
    "plt.grid(True)\n",
    "plt.show()"
   ]
  },
  {
   "cell_type": "markdown",
   "metadata": {},
   "source": [
    "## LQR \n",
    "\n",
    "LQR Controller: \n",
    "## LQR Control\n",
    "\n",
    "LQR (Linear Quadratic Regulator) control is a type of optimal control that minimizes a quadratic cost function. The LQR controller is designed to stabilize a linear system by minimizing the cost function:\n",
    "\n",
    "$$J = \\int_{0}^{\\infty} (x^T Q x + u^T R u) dt$$\n",
    "\n",
    "where $x$ is the state vector, $u$ is the control input, $Q$ is the state weighting matrix, and $R$ is the control weighting matrix. The LQR controller computes the optimal control input $u^*$ that minimizes the cost function.\n",
    "\n",
    "The LQR controller is designed to stabilize a linear system by minimizing the cost function. The LQR controller computes the optimal control input $u^*$ that minimizes the cost function. The optimal control input is given by:\n",
    "\n",
    "$$u^* = -Kx$$\n",
    "\n",
    "where $K$ is the LQR gain matrix. The LQR gain matrix is computed by solving the algebraic Riccati equation:\n",
    "\n",
    "$$A^T P + P A - P B R^{-1} B^T P + Q = 0$$\n",
    "\n",
    "where $P$ is the solution to the Riccati equation. The LQR gain matrix is then given by:\n",
    "\n",
    "$$K = R^{-1} B^T P$$\n",
    "\n",
    "The LQR controller is a state feedback controller, which means that the control input is a function of the state vector. The LQR controller is optimal in the sense that it minimizes the cost function and stabilizes the system.\n"
   ]
  },
  {
   "cell_type": "code",
   "execution_count": 125,
   "metadata": {},
   "outputs": [
    {
     "name": "stdout",
     "output_type": "stream",
     "text": [
      "LQR gain matrix: [[2.28886574 1.05972659]]\n"
     ]
    }
   ],
   "source": [
    "# define the weighting matrices Q and R\n",
    "Q = np.array([[5, 0], [0, 1]])\n",
    "R = np.array([[5]])\n",
    "\n",
    "# solve the algebraic Riccati equation to obtain the LQR gain matrix K\n",
    "K, S, E = matlab.lqr(A, B, Q, R)\n",
    "\n",
    "# create the closed-loop system with the LQR controller\n",
    "Ac = A - B @ K\n",
    "sys_lqr = matlab.ss(Ac, B, C, D)\n",
    "\n",
    "# print the LQR gain matrix\n",
    "print(f\"LQR gain matrix: {K}\")\n"
   ]
  },
  {
   "cell_type": "code",
   "execution_count": 126,
   "metadata": {},
   "outputs": [
    {
     "data": {
      "image/png": "[encoded data removed]",
      "text/plain": [
       "<Figure size 500x300 with 1 Axes>"
      ]
     },
     "metadata": {},
     "output_type": "display_data"
    }
   ],
   "source": [
    "# plot \n",
    "t = np.linspace(0, 20, 1000)\n",
    "y, t = matlab.step(sys, t)\n",
    "ylqr, t = matlab.step(sys_lqr, t)\n",
    "\n",
    "fig, ax = plt.subplots(figsize=(5, 3))\n",
    "\n",
    "ax.plot(t, y, label='A')\n",
    "ax.plot(t, ylqr, label='Acl')\n",
    "ax.legend()\n",
    "\n",
    "# limit y axis\n",
    "plt.ylim(0, 2)\n",
    "\n",
    "plt.show()"
   ]
  }
 ],
 "metadata": {
  "kernelspec": {
   "display_name": "Python 3",
   "language": "python",
   "name": "python3"
  },
  "language_info": {
   "codemirror_mode": {
    "name": "ipython",
    "version": 3
   },
   "file_extension": ".py",
   "mimetype": "text/x-python",
   "name": "python",
   "nbconvert_exporter": "python",
   "pygments_lexer": "ipython3",
   "version": "3.8.10"
  },
  "orig_nbformat": 4
 },
 "nbformat": 4,
 "nbformat_minor": 2
}
