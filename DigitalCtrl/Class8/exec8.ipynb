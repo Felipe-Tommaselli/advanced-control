{
 "cells": [
  {
   "cell_type": "markdown",
   "metadata": {},
   "source": [
    "# Lista de Exercícios 8: Espaço de estados - parte 1\n",
    "\n",
    "> Felipe Andrade Garcia Tommaselli- 11800910\n",
    "\n",
    "> Gianluca Capezzuto Sardinha - 11876900\n",
    "\n",
    "- Slide Aula 8: https://marofe.github.io/controle-digital/2024/aula8.html\n"
   ]
  },
  {
   "cell_type": "code",
   "execution_count": 15,
   "metadata": {},
   "outputs": [],
   "source": [
    "import numpy as np\n",
    "import matplotlib.pyplot as plt\n",
    "from scipy.signal import cont2discrete, tf2zpk, dlti, dstep\n",
    "from control.matlab import *\n",
    "from scipy import signal"
   ]
  }
 ],
 "metadata": {
  "kernelspec": {
   "display_name": "Python 3",
   "language": "python",
   "name": "python3"
  },
  "language_info": {
   "codemirror_mode": {
    "name": "ipython",
    "version": 3
   },
   "file_extension": ".py",
   "mimetype": "text/x-python",
   "name": "python",
   "nbconvert_exporter": "python",
   "pygments_lexer": "ipython3",
   "version": "3.10.12"
  }
 },
 "nbformat": 4,
 "nbformat_minor": 2
}
