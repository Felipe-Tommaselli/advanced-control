{
 "cells": [
  {
   "cell_type": "markdown",
   "metadata": {},
   "source": [
    "# Lista de Exercícios 3: Transformada Z \n",
    "\n",
    "> Felipe Andrade Garcia Tommaselli- 11800910"
   ]
  },
  {
   "cell_type": "markdown",
   "metadata": {},
   "source": [
    "- Slide Aula 3: https://marofe.github.io/controle-digital/2024/aula3.html\n",
    "\n"
   ]
  },
  {
   "cell_type": "code",
   "execution_count": 1,
   "metadata": {},
   "outputs": [],
   "source": [
    "import matplotlib.pyplot as plt\n",
    "import numpy as np\n",
    "from sympy import pprint, simplify\n",
    "import lcapy as lc \n",
    "from lcapy.discretetime import n"
   ]
  },
  {
   "cell_type": "markdown",
   "metadata": {},
   "source": [
    "## Atividade 1: Cálculo Simbólico e Transformada Z no MATLAB\n",
    "\n",
    "Nesta atividade, o objetivo é utilizar o recurso de cálculo simbólico do MATLAB para obter a transformada Z de um sinal.\n",
    "\n",
    "### Exemplo:\n",
    "\n",
    "Considere o seguinte exemplo:\n",
    "\n",
    "$$ f[n] = 10 - e^{-5nT} $$\n",
    "\n",
    "A transformada Z de $$ f[n] $$ pode ser obtida usando o MATLAB da seguinte forma: primeiramente, defina a equação literal no MATLAB. Para definir a variável $$ n $$ e outras variáveis que existirem na equação, como $$ T $$, utilize o comando `syms`. Em seguida, utilize o comando `ztrans`. \n",
    "\n",
    "O script a seguir demonstra o processo:\n",
    "\n",
    "```matlab\n",
    "close all % Fecha todas as janelas\n",
    "clear all % Limpa a memória\n",
    "clc % Limpa a command window\n",
    "%%\n",
    "syms T n % Define variáveis simbólicas\n",
    "f = 10 - exp(-5 * n * T); % Define o sinal\n",
    "F = ztrans(f); % Obtém a transformada Z\n",
    "pretty(F) % Exibe a equação da transformada Z numa forma \"bonita\"\n",
    "```\n",
    "\n",
    "### Tarefa:\n",
    "\n",
    "Seguindo a mesma lógica, encontre a transformada Z para os seguintes sinais:\n",
    "\n",
    "1. $ f_a[n] = 1 + n \\left(\\frac{1}{3}\\right)^n $\n",
    "2. $ f_b[n] = \\left(\\frac{1}{2}\\right)^n + n \\left(\\frac{1}{5}\\right)^n $\n",
    "3. $ f_c[n] = e^{anT} $\n",
    "4. $ f_d[n] = nT $\n"
   ]
  },
  {
   "cell_type": "code",
   "execution_count": 2,
   "metadata": {},
   "outputs": [],
   "source": [
    "# Definir simbolos\n",
    "T = lc.symbols('T')\n",
    "a = lc.symbols('a', real=True, positive=True)\n",
    "\n",
    "# Definindo os sinais\n",
    "f_exemplo = 10 - lc.exp(-5 * n * T)\n",
    "f_a = 1 + n * (1/3)**n\n",
    "f_b = (1/2)**n + n * (1/5)**n\n",
    "f_c = lc.exp(a * n * T)\n",
    "f_d = n * T\n",
    "\n",
    "\n",
    "# Calculando a transformada Z para cada sinal\n",
    "F_exemplo = f_exemplo.ZT()\n",
    "F_a = f_a.ZT()\n",
    "F_b = f_b.ZT()\n",
    "F_c = f_c.ZT()\n",
    "F_d = f_d.ZT()\n",
    "\n",
    "F_exemplo = simplify(F_exemplo).evalf(1)\n",
    "F_a = simplify(F_a).evalf(1)\n",
    "F_b = simplify(F_b).evalf(1)\n",
    "F_c = simplify(F_c).evalf(1)\n",
    "F_d = simplify(F_d).evalf(1)\n"
   ]
  },
  {
   "cell_type": "code",
   "execution_count": 3,
   "metadata": {},
   "outputs": [
    {
     "name": "stdout",
     "output_type": "stream",
     "text": [
      "Transformada Z de f_exemplo[n]:\n",
      "\n",
      "        5⋅T             \n",
      "     z⋅ℯ          1.0e+1\n",
      "- ──────────── + ───────\n",
      "     5⋅T               1\n",
      "  z⋅ℯ    - 1.0   1.0 - ─\n",
      "                       z\n"
     ]
    }
   ],
   "source": [
    "# Exibindo as transformadas Z de forma \"bonita\"\n",
    "print(\"Transformada Z de f_exemplo[n]:\\n\")\n",
    "pprint(F_exemplo)"
   ]
  },
  {
   "cell_type": "code",
   "execution_count": 4,
   "metadata": {},
   "outputs": [
    {
     "name": "stdout",
     "output_type": "stream",
     "text": [
      "_._._._._._._._._._._._._._._._._._._._._._._._._._._._._._._._._._._._._._._._._._._._._._._._._._.\n",
      "Transformada Z de f_a[n]:\n",
      "\n",
      "           3.0e+31⋅z                  1   \n",
      "──────────────────────────────── + ───────\n",
      "         2                               1\n",
      "1.0e+32⋅z  - 7.0e+31⋅z + 1.0e+31   1.0 - ─\n",
      "                                         z\n",
      "_._._._._._._._._._._._._._._._._._._._._._._._._._._._._._._._._._._._._._._._._._._._._._._._._._.\n",
      "\n",
      "Transformada Z de f_b[n]:\n",
      "\n",
      "   2.0⋅z        0.2⋅z   \n",
      "─────────── + ──────────\n",
      "2.0⋅z - 1.0            2\n",
      "              (z - 0.2) \n",
      "_._._._._._._._._._._._._._._._._._._._._._._._._._._._._._._._._._._._._._._._._._._._._._._._._._.\n",
      "\n",
      "Transformada Z de f_c[n]:\n",
      "\n",
      "   z    \n",
      "────────\n",
      "     T⋅a\n",
      "z - ℯ   \n",
      "_._._._._._._._._._._._._._._._._._._._._._._._._._._._._._._._._._._._._._._._._._._._._._._._._._.\n",
      "\n",
      "Transformada Z de f_d[n]:\n",
      "\n",
      "   T⋅z    \n",
      "──────────\n",
      "         2\n",
      "(z - 1.0) \n",
      "_._._._._._._._._._._._._._._._._._._._._._._._._._._._._._._._._._._._._._._._._._._._._._._._._._.\n"
     ]
    }
   ],
   "source": [
    "print('_.'*50)\n",
    "print(\"Transformada Z de f_a[n]:\\n\")\n",
    "pprint(F_a)\n",
    "\n",
    "print('_.'*50)\n",
    "print(\"\\nTransformada Z de f_b[n]:\\n\")\n",
    "pprint(F_b)\n",
    "\n",
    "print('_.'*50)\n",
    "print(\"\\nTransformada Z de f_c[n]:\\n\")\n",
    "pprint(F_c)\n",
    "\n",
    "print('_.'*50)\n",
    "print(\"\\nTransformada Z de f_d[n]:\\n\")\n",
    "pprint(F_d)\n",
    "print('_.'*50)\n"
   ]
  },
  {
   "cell_type": "markdown",
   "metadata": {},
   "source": [
    "## Atividade 2\n",
    "\n",
    "Nessa atividade, o objetivo é usar o recurso de cálculo simbólico do MATLAB para obter a transformada Z Inversa. Para isso, considere o seguinte exemplo:\n",
    "\n",
    "$$ F(z) = \\frac{z}{z - \\frac{1}{3}} $$\n",
    "\n",
    "A transformada Z inversa de $$ F(z) $$ pode ser obtida usando o MATLAB da seguinte forma: primeiramente defina a equação literal no MATLAB, para definir a variável $$ z $$, e outras variáveis que existirem na equação, utilize o comando `syms`. Em seguida, utilize o comando `iztrans`. Após encontrar a transformada Z inversa, pode-se visualizar o sinal no tempo discreto usando o comando `subs`.\n",
    "\n",
    "```matlab\n",
    "close all % Fecha todas as janelas\n",
    "clear all % Limpa a memória\n",
    "clc % Limpa a command window\n",
    "%%\n",
    "syms z % Define variáveis simbólicas\n",
    "F = z/(z - 1/3); % Define eq da transf. Z\n",
    "f = iztrans(F); % Obtém transf. Z inversa\n",
    "pretty(f) % Exibe na tela de forma \"bonita\"\n",
    "td = 1:10; % Cria vetor de tempo discreto\n",
    "figure\n",
    "stem(td, subs(f, 'n', td)) % Exibe sinal em tempo discreto\n",
    "```\n",
    "\n",
    "Seguindo a mesma lógica, encontre a transformada Z inversa dos seguintes sinais e mostre ao menos as 10 primeiras amostras usando `stem`.\n",
    "\n",
    "1. $ F_a(z) = \\frac{1}{z} $\n",
    "\n",
    "2. $ F_b(z) = \\frac{z + 2}{(z - \\frac{1}{3})(z - \\frac{1}{4})} $\n",
    "\n",
    "3. $ F_c(z) = \\frac{5z}{z - \\frac{1}{2}} + \\frac{2z}{(z - \\frac{1}{9})^2} $\n",
    "\n",
    "4. $ F_d(z) = \\frac{5z(z - \\cos(5))}{z^2 - 2 \\cos(5)z + 1} $\n",
    "\n",
    "5. $ F_e(z) = \\frac{3z}{3z - 2} $\n"
   ]
  },
  {
   "cell_type": "code",
   "execution_count": 5,
   "metadata": {},
   "outputs": [
    {
     "name": "stdout",
     "output_type": "stream",
     "text": [
      "Transformada Z inversa de F_a (primeiros 10 termos): [0, 1, 0, 0, 0, 0, 0, 0, 0, 0]\n",
      "Transformada Z inversa de F_b (primeiros 10 termos): [24.0000000000000, 0, 0, 0, 0, 0, 0, 0, 0, 0]\n",
      "Transformada Z inversa de F_c (primeiros 10 termos): [0, 0, 0, 0, 0, 0, 0, 0, 0, 0]\n",
      "Transformada Z inversa de F_d (primeiros 10 termos): [0, 0, 0, 0, 0, 0, 0, 0, 0, 0]\n",
      "Transformada Z inversa de F_e (primeiros 10 termos): [0, 0, 0, 0, 0, 0, 0, 0, 0, 0]\n"
     ]
    }
   ],
   "source": [
    "import sympy as sp\n",
    "\n",
    "# Definindo as variáveis simbólicas\n",
    "n, z = sp.symbols('n z')\n",
    "\n",
    "# Função para calcular a transformada Z manualmente\n",
    "def z_transform(signal, n):\n",
    "    # Calcular a transformada Z para os primeiros 10 termos\n",
    "    transform = sum(signal.subs(n, k) * z**(-k) for k in range(0, 10))\n",
    "    return sp.simplify(transform)\n",
    "\n",
    "# Função para calcular a transformada Z inversa manualmente\n",
    "def inverse_z_transform(Z_transform, z, n):\n",
    "    # Expande a transformada Z em série\n",
    "    series_expansion = sp.series(Z_transform, z, n=10)\n",
    "    \n",
    "    # Extrai os coeficientes dos termos de z^(-n) para n de 0 a 9\n",
    "    inverse_transform = [sp.simplify(series_expansion.coeff(z, -k)) for k in range(10)]\n",
    "    return inverse_transform\n",
    "\n",
    "# Definindo as transformadas Z\n",
    "F_a = 1 / z\n",
    "F_b = (z + 2) / ((z - 1/3) * (z - 1/4))\n",
    "F_c = (5 * z) / (z - 1/2) + (2 * z) / (z - 1/9)**2\n",
    "F_d = (5 * z * (z - sp.cos(5))) / (z**2 - 2 * sp.cos(5) * z + 1)\n",
    "F_e = (3 * z) / (3 * z - 2)\n",
    "\n",
    "# Calculando as transformadas Z inversas usando a função\n",
    "f_a = inverse_z_transform(F_a, z, n)\n",
    "f_b = inverse_z_transform(F_b, z, n)\n",
    "f_c = inverse_z_transform(F_c, z, n)\n",
    "f_d = inverse_z_transform(F_d, z, n)\n",
    "f_e = inverse_z_transform(F_e, z, n)\n",
    "\n",
    "# Exibindo os primeiros 10 termos de cada transformada Z inversa\n",
    "print(\"Transformada Z inversa de F_a (primeiros 10 termos):\", f_a)\n",
    "print(\"Transformada Z inversa de F_b (primeiros 10 termos):\", f_b)\n",
    "print(\"Transformada Z inversa de F_c (primeiros 10 termos):\", f_c)\n",
    "print(\"Transformada Z inversa de F_d (primeiros 10 termos):\", f_d)\n",
    "print(\"Transformada Z inversa de F_e (primeiros 10 termos):\", f_e)\n"
   ]
  },
  {
   "cell_type": "code",
   "execution_count": 6,
   "metadata": {},
   "outputs": [
    {
     "data": {
      "image/png": "[encoded data removed]",
      "text/plain": [
       "<Figure size 1200x800 with 5 Axes>"
      ]
     },
     "metadata": {},
     "output_type": "display_data"
    }
   ],
   "source": [
    "# Definindo o tempo discreto\n",
    "td = list(range(10))\n",
    "\n",
    "# Plotando os gráficos\n",
    "plt.figure(figsize=(12, 8))\n",
    "\n",
    "# Plot para F_a\n",
    "plt.subplot(3, 2, 1)\n",
    "plt.stem(td, [float(val) for val in f_a], basefmt=\" \")\n",
    "plt.title('Transformada Z inversa de F_a')\n",
    "plt.xlabel('n')\n",
    "plt.ylabel('f_a[n]')\n",
    "\n",
    "# Plot para F_b\n",
    "plt.subplot(3, 2, 2)\n",
    "plt.stem(td, [float(val) for val in f_b], basefmt=\" \")\n",
    "plt.title('Transformada Z inversa de F_b')\n",
    "plt.xlabel('n')\n",
    "plt.ylabel('f_b[n]')\n",
    "\n",
    "# Plot para F_c\n",
    "plt.subplot(3, 2, 3)\n",
    "plt.stem(td, [float(val) for val in f_c], basefmt=\" \")\n",
    "plt.title('Transformada Z inversa de F_c')\n",
    "plt.xlabel('n')\n",
    "plt.ylabel('f_c[n]')\n",
    "\n",
    "# Plot para F_d\n",
    "plt.subplot(3, 2, 4)\n",
    "plt.stem(td, [float(val) for val in f_d], basefmt=\" \")\n",
    "plt.title('Transformada Z inversa de F_d')\n",
    "plt.xlabel('n')\n",
    "plt.ylabel('f_d[n]')\n",
    "\n",
    "# Plot para F_e\n",
    "plt.subplot(3, 2, 5)\n",
    "plt.stem(td, [float(val) for val in f_e], basefmt=\" \")\n",
    "plt.title('Transformada Z inversa de F_e')\n",
    "plt.xlabel('n')\n",
    "plt.ylabel('f_e[n]')\n",
    "\n",
    "plt.tight_layout()\n",
    "plt.show()\n"
   ]
  }
 ],
 "metadata": {
  "kernelspec": {
   "display_name": "Python 3",
   "language": "python",
   "name": "python3"
  },
  "language_info": {
   "codemirror_mode": {
    "name": "ipython",
    "version": 3
   },
   "file_extension": ".py",
   "mimetype": "text/x-python",
   "name": "python",
   "nbconvert_exporter": "python",
   "pygments_lexer": "ipython3",
   "version": "3.10.12"
  }
 },
 "nbformat": 4,
 "nbformat_minor": 2
}
